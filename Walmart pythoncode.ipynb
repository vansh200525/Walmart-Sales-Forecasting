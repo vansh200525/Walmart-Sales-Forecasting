import pandas as pd
import seaborn as sns
import matplotlib.pyplot as plt
from sklearn.linear_model import LinearRegression
from statsmodels.tsa.seasonal import seasonal_decompose
df = pd.read_csv('Walmart DataSet.csv')
df
df.head()
df.tail()
df.describe()
df.info()

df.dtypes
df.isnull().sum()
df.shape
# Handle missing values
df.fillna(method='ffill', inplace=True)
# Summary statistics
print(df.describe())
df.columns
for i in df.columns:
    sns.scatterplot(df[i])
    plt.show()
sns.boxplot(df)
plt.show()
for i in df_num:
    sns.kdeplot(df[i] )
    plt.show()
for i in df_num:
    sns.histplot(df[i] , kde = True )
    plt.show()
for i in df_num:
    for j in df_num:
        sns.lineplot(x = df[i] , y = df[j])
        plt.show()
df_num = df.select_dtypes(include = 'number')
df_cat = df.select_dtypes(exclude = 'number')
sns.heatmap(df_num.corr() , annot = True , cmap = 'coolwarm')
plt.show()
x = df[['Unemployment']]
y = df['Weekly_Sales']
model = LinearRegression()
model.fit(x, y)
print(f'Coefficient: {model.coef_}, Intercept: {model.intercept_}')
# A
# Check correlation between Weekly_Sales and Unemployment
correlation = df[['Weekly_Sales', 'Unemployment']].corr()
print("Correlation between Weekly Sales and Unemployment Rate:\n", correlation)
# Group data by store and calculate the correlation between Unemployment and Weekly_Sales for each store
store_unemployment_corr = df.groupby('Store')[['Weekly_Sales', 'Unemployment']].corr().unstack().iloc[:, 1]

# Sort the stores by the impact of Unemployment on Weekly Sales
store_unemployment_corr = store_unemployment_corr.reset_index(level=0, drop=True).sort_values()

# Print the stores most affected by unemployment (Top negative correlations)
print("Stores most negatively impacted by unemployment: \n", store_unemployment_corr.head())

# Plot the impact of unemployment on weekly sales for each store
plt.figure(figsize=(12, 6))
sns.barplot(x=store_unemployment_corr.index, y=store_unemployment_corr.values)
plt.title('Impact of Unemployment on Weekly Sales by Store')
plt.xlabel('Store')
plt.ylabel('Correlation with Unemployment')
plt.xticks(rotation=90)
plt.show()

# Choose one store to plot sales vs unemployment
store_number = 1  # You can change this to any store number you want to visualize
store_data = df[df['Store'] == store_number]

# Scatter plot for Weekly Sales vs Unemployment for the chosen store
plt.figure(figsize=(8, 5))
sns.scatterplot(x='Unemployment', y='Weekly_Sales', data=store_data)
plt.title(f'Weekly Sales vs Unemployment for Store {store_number}')
plt.xlabel('Unemployment Rate')
plt.ylabel('Weekly Sales')
plt.show()

# B
print(df.columns)

# Convert the 'Date' column to datetime format
df['Date'] = pd.to_datetime(df['Date'], format='%d-%m-%Y')

# Verify the change
print(df.info())

# View the first few rows to confirm
df.head()
# Aggregate weekly sales data by date (across all stores)
weekly_sales = df['Weekly_Sales']

# Plot the overall sales trend
plt.figure(figsize=(12, 6))
plt.plot(weekly_sales, label='Weekly Sales')
plt.title('Weekly Sales Over Time')
plt.xlabel('Date')
plt.ylabel('Total Weekly Sales')
plt.legend()
plt.show()

# Perform time series decomposition to separate trend, seasonality, and residuals
decomposition = seasonal_decompose(weekly_sales, model='additive', period=52)  # Assuming annual seasonality

# Plot the decomposition
plt.figure(figsize=(12, 8))

plt.subplot(411)
plt.plot(decomposition.observed, label='Observed Sales')
plt.legend(loc='upper left')

plt.subplot(412)
plt.plot(decomposition.trend, label='Trend', color='orange')
plt.legend(loc='upper left')

plt.subplot(413)
plt.plot(decomposition.seasonal, label='Seasonality', color='green')
plt.legend(loc='upper left')

plt.subplot(414)
plt.plot(decomposition.resid, label='Residuals', color='red')
plt.legend(loc='upper left')

plt.tight_layout()
plt.show()

# Plot just the seasonality component to better analyze
plt.figure(figsize=(10, 4))
plt.plot(decomposition.seasonal, label='Seasonality', color='green')
plt.title('Seasonal Component of Weekly Sales')
plt.xlabel('Date')
plt.ylabel('Seasonal Effect on Sales')
plt.legend()
plt.show()

**Hypothesis:
Seasonal Peaks: If there are sharp increases in the seasonality plot during certain weeks, it might be due to holidays (e.g., Thanksgiving, Christmas, etc.) or other events that drive up sales.
Seasonal Dips: Seasonal dips might occur during off-seasons, when demand is generally lower (e.g., post-holiday months like January or February).**
# C
# Correlation between Temperature and Weekly Sales
corr_temp_sales = df['Temperature'].corr(df['Weekly_Sales'])
print(f'Correlation between Temperature and Weekly Sales: {corr_temp_sales}')

# Scatter plot
sns.scatterplot(x='Temperature', y='Weekly_Sales', data=df)
plt.title('Temperature vs Weekly Sales')
plt.show()
# D
# Correlation between CPI and Weekly Sales
corr_cpi_sales = df['CPI'].corr(df['Weekly_Sales'])
print(f'Correlation between CPI and Weekly Sales: {corr_cpi_sales}')
# Regression analysis
X_cpi = df[['CPI']]
model_cpi = LinearRegression()
model_cpi.fit(X_cpi, y)
print(f'CPI Coefficient: {model_cpi.coef_}, Intercept: {model_cpi.intercept_}')

# Scatter plot
sns.scatterplot(x='CPI', y='Weekly_Sales', data=df)
plt.title('CPI vs Weekly Sales')
plt.show()



# E
# Total sales per store
store_sales = df.groupby('Store')['Weekly_Sales'].sum().sort_values(ascending=False)
top_stores = store_sales.head(5)
print(f'Top Performing Stores:\n{top_stores}')
# Worst performing store
worst_store = store_sales.tail(1)
print(f'Worst Performing Store:\n{worst_store}')

# Difference between highest and lowest performing stores
difference = top_stores.iloc[0] - worst_store.iloc[0]
print(f'Difference between highest and lowest performing stores: {difference}')

